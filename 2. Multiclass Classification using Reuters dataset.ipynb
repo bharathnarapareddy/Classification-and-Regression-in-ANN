{
 "cells": [
  {
   "cell_type": "code",
   "execution_count": 1,
   "id": "acting-elephant",
   "metadata": {},
   "outputs": [
    {
     "name": "stdout",
     "output_type": "stream",
     "text": [
      "Downloading data from https://storage.googleapis.com/tensorflow/tf-keras-datasets/reuters.npz\n",
      "2113536/2110848 [==============================] - 0s 0us/step\n"
     ]
    },
    {
     "name": "stderr",
     "output_type": "stream",
     "text": [
      "C:\\Users\\bnarapar\\Anaconda3\\envs\\tf\\lib\\site-packages\\tensorflow\\python\\keras\\datasets\\reuters.py:148: VisibleDeprecationWarning: Creating an ndarray from ragged nested sequences (which is a list-or-tuple of lists-or-tuples-or ndarrays with different lengths or shapes) is deprecated. If you meant to do this, you must specify 'dtype=object' when creating the ndarray\n",
      "  x_train, y_train = np.array(xs[:idx]), np.array(labels[:idx])\n",
      "C:\\Users\\bnarapar\\Anaconda3\\envs\\tf\\lib\\site-packages\\tensorflow\\python\\keras\\datasets\\reuters.py:149: VisibleDeprecationWarning: Creating an ndarray from ragged nested sequences (which is a list-or-tuple of lists-or-tuples-or ndarrays with different lengths or shapes) is deprecated. If you meant to do this, you must specify 'dtype=object' when creating the ndarray\n",
      "  x_test, y_test = np.array(xs[idx:]), np.array(labels[idx:])\n"
     ]
    }
   ],
   "source": [
    "from keras.datasets import reuters\n",
    "(train_data, train_labels), (test_data,test_labels) = reuters.load_data(num_words=10000)"
   ]
  },
  {
   "cell_type": "code",
   "execution_count": 5,
   "id": "appointed-oasis",
   "metadata": {},
   "outputs": [
    {
     "data": {
      "text/plain": [
       "(8982,)"
      ]
     },
     "execution_count": 5,
     "metadata": {},
     "output_type": "execute_result"
    }
   ],
   "source": [
    "train_data.shape"
   ]
  },
  {
   "cell_type": "code",
   "execution_count": 11,
   "id": "printable-ebony",
   "metadata": {},
   "outputs": [
    {
     "data": {
      "text/plain": [
       "31"
      ]
     },
     "execution_count": 11,
     "metadata": {},
     "output_type": "execute_result"
    }
   ],
   "source": [
    "len(train_data[10])"
   ]
  },
  {
   "cell_type": "code",
   "execution_count": 12,
   "id": "chemical-accountability",
   "metadata": {
    "scrolled": true
   },
   "outputs": [
    {
     "data": {
      "text/plain": [
       "[1,\n",
       " 245,\n",
       " 273,\n",
       " 207,\n",
       " 156,\n",
       " 53,\n",
       " 74,\n",
       " 160,\n",
       " 26,\n",
       " 14,\n",
       " 46,\n",
       " 296,\n",
       " 26,\n",
       " 39,\n",
       " 74,\n",
       " 2979,\n",
       " 3554,\n",
       " 14,\n",
       " 46,\n",
       " 4689,\n",
       " 4329,\n",
       " 86,\n",
       " 61,\n",
       " 3499,\n",
       " 4795,\n",
       " 14,\n",
       " 61,\n",
       " 451,\n",
       " 4329,\n",
       " 17,\n",
       " 12]"
      ]
     },
     "execution_count": 12,
     "metadata": {},
     "output_type": "execute_result"
    }
   ],
   "source": [
    "train_data[10]"
   ]
  },
  {
   "cell_type": "code",
   "execution_count": 16,
   "id": "infinite-qatar",
   "metadata": {},
   "outputs": [],
   "source": [
    "#Decoding one of the reviews back to English\n",
    "word_index=reuters.get_word_index()\n",
    "reverse_word_index = dict(\n",
    "[(value,key) for (key,value) in word_index.items()])\n",
    "decoded_newswire = ' '.join(\n",
    "[reverse_word_index.get(i-3,'?')for i in train_data[10]]) #indices are offset by 3 because 0,1 and 2 are reserved indices for 'padding', 'start of sequence' and 'unknown'."
   ]
  },
  {
   "cell_type": "code",
   "execution_count": 17,
   "id": "ranging-blocking",
   "metadata": {},
   "outputs": [
    {
     "data": {
      "text/plain": [
       "'? period ended december 31 shr profit 11 cts vs loss 24 cts net profit 224 271 vs loss 511 349 revs 7 258 688 vs 7 200 349 reuter 3'"
      ]
     },
     "execution_count": 17,
     "metadata": {},
     "output_type": "execute_result"
    }
   ],
   "source": [
    "#Decoded Example - from numbers to words\n",
    "decoded_newswire"
   ]
  },
  {
   "cell_type": "code",
   "execution_count": 15,
   "id": "viral-gazette",
   "metadata": {},
   "outputs": [
    {
     "data": {
      "text/plain": [
       "3"
      ]
     },
     "execution_count": 15,
     "metadata": {},
     "output_type": "execute_result"
    }
   ],
   "source": [
    "train_labels[10]"
   ]
  },
  {
   "cell_type": "code",
   "execution_count": 21,
   "id": "forward-philadelphia",
   "metadata": {},
   "outputs": [
    {
     "data": {
      "text/plain": [
       "242"
      ]
     },
     "execution_count": 21,
     "metadata": {},
     "output_type": "execute_result"
    }
   ],
   "source": [
    "word_index['period']"
   ]
  },
  {
   "cell_type": "code",
   "execution_count": 22,
   "id": "ultimate-latvia",
   "metadata": {},
   "outputs": [],
   "source": [
    "#Encoding the integer sequences into a binary matrix\n",
    "import numpy as np\n",
    "def vectorize_sequences(sequences, dimension=10000):\n",
    "    results= np.zeros((len(sequences),dimension)) #creates an all-zero matrix of shape (len(sequences), dimension)\n",
    "    for i, sequence in enumerate(sequences):\n",
    "        results[i, sequence] = 1.  #set specific indices of results[i] to 1s\n",
    "    return results\n",
    "\n",
    "x_train = vectorize_sequences(train_data)  #vectorized training data\n",
    "x_test = vectorize_sequences(test_data)    #vectorized test data"
   ]
  },
  {
   "cell_type": "code",
   "execution_count": 33,
   "id": "received-montgomery",
   "metadata": {},
   "outputs": [],
   "source": [
    "from keras.utils.np_utils import to_categorical\n",
    "\n",
    "one_hot_train_labels = to_categorical(train_labels)\n",
    "one_hot_test_labels = to_categorical(test_labels)"
   ]
  },
  {
   "cell_type": "code",
   "execution_count": 40,
   "id": "incomplete-father",
   "metadata": {},
   "outputs": [
    {
     "data": {
      "text/plain": [
       "0"
      ]
     },
     "execution_count": 40,
     "metadata": {},
     "output_type": "execute_result"
    }
   ],
   "source": [
    "train_labels.min()"
   ]
  },
  {
   "cell_type": "code",
   "execution_count": 41,
   "id": "personal-garlic",
   "metadata": {},
   "outputs": [
    {
     "data": {
      "text/plain": [
       "45"
      ]
     },
     "execution_count": 41,
     "metadata": {},
     "output_type": "execute_result"
    }
   ],
   "source": [
    "train_labels.max()"
   ]
  },
  {
   "cell_type": "code",
   "execution_count": 46,
   "id": "alleged-advertising",
   "metadata": {},
   "outputs": [
    {
     "data": {
      "text/plain": [
       "array([[0., 0., 0., ..., 0., 0., 0.],\n",
       "       [0., 0., 0., ..., 0., 0., 0.],\n",
       "       [0., 0., 0., ..., 0., 0., 0.],\n",
       "       ...,\n",
       "       [0., 0., 0., ..., 0., 0., 0.],\n",
       "       [0., 0., 0., ..., 0., 0., 0.],\n",
       "       [0., 0., 0., ..., 0., 0., 0.]], dtype=float32)"
      ]
     },
     "execution_count": 46,
     "metadata": {},
     "output_type": "execute_result"
    }
   ],
   "source": [
    "one_hot_train_labels"
   ]
  },
  {
   "cell_type": "code",
   "execution_count": 35,
   "id": "printable-onion",
   "metadata": {},
   "outputs": [
    {
     "data": {
      "text/plain": [
       "(8982, 46)"
      ]
     },
     "execution_count": 35,
     "metadata": {},
     "output_type": "execute_result"
    }
   ],
   "source": [
    "one_hot_train_labels.shape"
   ]
  },
  {
   "cell_type": "code",
   "execution_count": 27,
   "id": "tender-aluminum",
   "metadata": {},
   "outputs": [],
   "source": [
    "from keras import models\n",
    "from keras import layers\n",
    "\n",
    "model = models.Sequential([\n",
    "    layers.Dense(64, activation = 'relu', input_shape=(10000,)),\n",
    "    layers.Dense(64, activation = 'relu'),\n",
    "    layers.Dense(46,activation = 'softmax') #The network produces a 46 dimensional vector where output[i] is the probability that the sample belongs to class 'i'. The 46 scores sums up to 1.\n",
    "])"
   ]
  },
  {
   "cell_type": "code",
   "execution_count": 28,
   "id": "connected-apollo",
   "metadata": {},
   "outputs": [],
   "source": [
    "model.compile(optimizer='rmsprop',loss='categorical_crossentropy',metrics=['accuracy'])"
   ]
  },
  {
   "cell_type": "code",
   "execution_count": 42,
   "id": "unknown-greensboro",
   "metadata": {},
   "outputs": [],
   "source": [
    "x_val = x_train[:1000]\n",
    "partial_x_train = x_train[1000:]\n",
    "\n",
    "y_val = one_hot_train_labels[:1000]\n",
    "partial_y_train = one_hot_train_labels[1000:]"
   ]
  },
  {
   "cell_type": "code",
   "execution_count": 47,
   "id": "popular-stream",
   "metadata": {},
   "outputs": [
    {
     "name": "stdout",
     "output_type": "stream",
     "text": [
      "Epoch 1/20\n",
      "16/16 [==============================] - 0s 25ms/step - loss: 2.6139 - accuracy: 0.5306 - val_loss: 1.7140 - val_accuracy: 0.6530\n",
      "Epoch 2/20\n",
      "16/16 [==============================] - 0s 16ms/step - loss: 1.4122 - accuracy: 0.7070 - val_loss: 1.2928 - val_accuracy: 0.7220\n",
      "Epoch 3/20\n",
      "16/16 [==============================] - 0s 15ms/step - loss: 1.0457 - accuracy: 0.7704 - val_loss: 1.1263 - val_accuracy: 0.7660\n",
      "Epoch 4/20\n",
      "16/16 [==============================] - 0s 16ms/step - loss: 0.8138 - accuracy: 0.8277 - val_loss: 1.0108 - val_accuracy: 0.7870\n",
      "Epoch 5/20\n",
      "16/16 [==============================] - 0s 16ms/step - loss: 0.6441 - accuracy: 0.8695 - val_loss: 0.9771 - val_accuracy: 0.7800\n",
      "Epoch 6/20\n",
      "16/16 [==============================] - 0s 19ms/step - loss: 0.5134 - accuracy: 0.8928 - val_loss: 0.9171 - val_accuracy: 0.8040\n",
      "Epoch 7/20\n",
      "16/16 [==============================] - 0s 17ms/step - loss: 0.4142 - accuracy: 0.9126 - val_loss: 0.9138 - val_accuracy: 0.8040\n",
      "Epoch 8/20\n",
      "16/16 [==============================] - 0s 16ms/step - loss: 0.3361 - accuracy: 0.9296 - val_loss: 0.8939 - val_accuracy: 0.8170\n",
      "Epoch 9/20\n",
      "16/16 [==============================] - 0s 17ms/step - loss: 0.2858 - accuracy: 0.9382 - val_loss: 0.8988 - val_accuracy: 0.8120\n",
      "Epoch 10/20\n",
      "16/16 [==============================] - 0s 17ms/step - loss: 0.2366 - accuracy: 0.9488 - val_loss: 0.9074 - val_accuracy: 0.8200\n",
      "Epoch 11/20\n",
      "16/16 [==============================] - 0s 16ms/step - loss: 0.2097 - accuracy: 0.9499 - val_loss: 0.9132 - val_accuracy: 0.8150\n",
      "Epoch 12/20\n",
      "16/16 [==============================] - 0s 17ms/step - loss: 0.1834 - accuracy: 0.9528 - val_loss: 0.9452 - val_accuracy: 0.8150\n",
      "Epoch 13/20\n",
      "16/16 [==============================] - 0s 16ms/step - loss: 0.1651 - accuracy: 0.9549 - val_loss: 0.9960 - val_accuracy: 0.7990\n",
      "Epoch 14/20\n",
      "16/16 [==============================] - 0s 17ms/step - loss: 0.1525 - accuracy: 0.9543 - val_loss: 0.9697 - val_accuracy: 0.8150\n",
      "Epoch 15/20\n",
      "16/16 [==============================] - 0s 16ms/step - loss: 0.1401 - accuracy: 0.9545 - val_loss: 0.9998 - val_accuracy: 0.8010\n",
      "Epoch 16/20\n",
      "16/16 [==============================] - 0s 16ms/step - loss: 0.1346 - accuracy: 0.9563 - val_loss: 0.9979 - val_accuracy: 0.8130\n",
      "Epoch 17/20\n",
      "16/16 [==============================] - 0s 16ms/step - loss: 0.1246 - accuracy: 0.9577 - val_loss: 1.0448 - val_accuracy: 0.8050\n",
      "Epoch 18/20\n",
      "16/16 [==============================] - 0s 17ms/step - loss: 0.1231 - accuracy: 0.9555 - val_loss: 1.0817 - val_accuracy: 0.8000\n",
      "Epoch 19/20\n",
      "16/16 [==============================] - 0s 16ms/step - loss: 0.1132 - accuracy: 0.9588 - val_loss: 1.0260 - val_accuracy: 0.8020\n",
      "Epoch 20/20\n",
      "16/16 [==============================] - 0s 15ms/step - loss: 0.1146 - accuracy: 0.9565 - val_loss: 1.0433 - val_accuracy: 0.8050\n"
     ]
    }
   ],
   "source": [
    "history = model.fit(partial_x_train,partial_y_train, epochs=20, batch_size=512, validation_data=(x_val,y_val))"
   ]
  },
  {
   "cell_type": "code",
   "execution_count": 59,
   "id": "liberal-alaska",
   "metadata": {},
   "outputs": [
    {
     "data": {
      "text/plain": [
       "dict_keys(['loss', 'accuracy', 'val_loss', 'val_accuracy'])"
      ]
     },
     "execution_count": 59,
     "metadata": {},
     "output_type": "execute_result"
    }
   ],
   "source": [
    "history.history.keys()"
   ]
  },
  {
   "cell_type": "code",
   "execution_count": 61,
   "id": "naked-barrier",
   "metadata": {},
   "outputs": [
    {
     "data": {
      "image/png": "[encoded data removed]",
      "text/plain": [
       "<Figure size 432x288 with 1 Axes>"
      ]
     },
     "metadata": {
      "needs_background": "light"
     },
     "output_type": "display_data"
    }
   ],
   "source": [
    "hist=history.history\n",
    "\n",
    "#Plotting Training and Validation Loss\n",
    "import matplotlib.pyplot as plt\n",
    "\n",
    "l=list(range(1,len(history.history['loss'])+1))\n",
    "plt.plot(l,hist['loss'],label='Training Loss')\n",
    "plt.plot(l,hist['val_loss'],label='Validation Loss')\n",
    "plt.legend()\n",
    "plt.show()"
   ]
  },
  {
   "cell_type": "code",
   "execution_count": 62,
   "id": "recognized-exemption",
   "metadata": {},
   "outputs": [
    {
     "data": {
      "image/png": "[encoded data removed]",
      "text/plain": [
       "<Figure size 432x288 with 1 Axes>"
      ]
     },
     "metadata": {
      "needs_background": "light"
     },
     "output_type": "display_data"
    }
   ],
   "source": [
    "#Plotting Training and Validation Accuracy\n",
    "\n",
    "plt.plot(l,hist['accuracy'],label='Training Accuracy')\n",
    "plt.plot(l,hist['val_accuracy'],label='Validation Accuracy')\n",
    "plt.legend()\n",
    "plt.show()"
   ]
  },
  {
   "cell_type": "code",
   "execution_count": 63,
   "id": "first-deposit",
   "metadata": {},
   "outputs": [
    {
     "name": "stdout",
     "output_type": "stream",
     "text": [
      "71/71 [==============================] - 0s 1ms/step - loss: 1.2035 - accuracy: 0.7947\n"
     ]
    },
    {
     "data": {
      "text/plain": [
       "[1.2034801244735718, 0.7947462201118469]"
      ]
     },
     "execution_count": 63,
     "metadata": {},
     "output_type": "execute_result"
    }
   ],
   "source": [
    "#Evaluating by model on the test data\n",
    "model.evaluate(x_test,one_hot_test_labels)"
   ]
  },
  {
   "cell_type": "markdown",
   "id": "incorrect-carroll",
   "metadata": {},
   "source": [
    "From the plot above, it's clear that the network started overfitting after around 9 epochs."
   ]
  },
  {
   "cell_type": "code",
   "execution_count": 67,
   "id": "disciplinary-bench",
   "metadata": {},
   "outputs": [],
   "source": [
    "#Generating Predictions on New Data\n",
    "\n",
    "predictions = model.predict(x_test)"
   ]
  },
  {
   "cell_type": "code",
   "execution_count": 69,
   "id": "classical-seeker",
   "metadata": {},
   "outputs": [
    {
     "data": {
      "text/plain": [
       "(2246, 46)"
      ]
     },
     "execution_count": 69,
     "metadata": {},
     "output_type": "execute_result"
    }
   ],
   "source": [
    "predictions.shape"
   ]
  },
  {
   "cell_type": "code",
   "execution_count": 72,
   "id": "necessary-intro",
   "metadata": {},
   "outputs": [
    {
     "data": {
      "text/plain": [
       "array([2.23475527e-05, 2.42831049e-07, 5.23016241e-10, 9.58666861e-01,\n",
       "       4.00557816e-02, 4.06357809e-10, 4.75704383e-13, 8.78393980e-09,\n",
       "       2.15120199e-05, 4.38799255e-08, 1.63917221e-07, 5.02483221e-04,\n",
       "       4.23243414e-08, 1.19618171e-05, 9.72123431e-08, 5.79844766e-13,\n",
       "       5.54247235e-05, 5.99983778e-08, 3.00862894e-07, 4.76145506e-04,\n",
       "       1.54035690e-04, 1.62233100e-05, 8.76052786e-10, 1.35922729e-09,\n",
       "       1.18191978e-09, 2.20671609e-06, 9.15542707e-13, 5.27441910e-11,\n",
       "       1.00131324e-07, 2.09360773e-09, 1.14856320e-07, 2.79717417e-12,\n",
       "       6.01180572e-09, 6.11488638e-11, 1.09060379e-10, 8.54684590e-09,\n",
       "       1.38726555e-05, 7.50570370e-11, 4.98361246e-08, 1.15839250e-12,\n",
       "       6.61133037e-10, 1.51951807e-09, 1.65453248e-16, 2.64089504e-13,\n",
       "       9.29561286e-17, 3.81536018e-11], dtype=float32)"
      ]
     },
     "execution_count": 72,
     "metadata": {},
     "output_type": "execute_result"
    }
   ],
   "source": [
    "predictions[0]"
   ]
  },
  {
   "cell_type": "code",
   "execution_count": 71,
   "id": "normal-meeting",
   "metadata": {},
   "outputs": [
    {
     "data": {
      "text/plain": [
       "1.0000001"
      ]
     },
     "execution_count": 71,
     "metadata": {},
     "output_type": "execute_result"
    }
   ],
   "source": [
    "#An array obviously has 46 elements. Sum of all these elements will be 1\n",
    "np.sum(predictions[0])"
   ]
  },
  {
   "cell_type": "code",
   "execution_count": 73,
   "id": "composed-wrong",
   "metadata": {},
   "outputs": [
    {
     "data": {
      "text/plain": [
       "0.95866686"
      ]
     },
     "execution_count": 73,
     "metadata": {},
     "output_type": "execute_result"
    }
   ],
   "source": [
    "#Maximum value i.e., Maximum probability is\n",
    "np.max(predictions[0])"
   ]
  },
  {
   "cell_type": "code",
   "execution_count": 74,
   "id": "universal-sussex",
   "metadata": {},
   "outputs": [
    {
     "data": {
      "text/plain": [
       "3"
      ]
     },
     "execution_count": 74,
     "metadata": {},
     "output_type": "execute_result"
    }
   ],
   "source": [
    "#So the maximum probability belongs to the class?\n",
    "np.argmax(predictions[0])"
   ]
  },
  {
   "cell_type": "code",
   "execution_count": 75,
   "id": "hazardous-privacy",
   "metadata": {},
   "outputs": [],
   "source": [
    "#Let's try using a smaller number of nodes in the intermediate layers than the classes present at the output (viz. 46) and will see the resulting numbers\n",
    "\n",
    "model = models.Sequential([\n",
    "    layers.Dense(64, activation = 'relu', input_shape=(10000,)),\n",
    "    layers.Dense(4, activation = 'relu'),\n",
    "    layers.Dense(46,activation = 'softmax') #The network produces a 46 dimensional vector where output[i] is the probability that the sample belongs to class 'i'. The 46 scores sums up to 1.\n",
    "])"
   ]
  },
  {
   "cell_type": "code",
   "execution_count": 77,
   "id": "comparative-template",
   "metadata": {},
   "outputs": [
    {
     "name": "stdout",
     "output_type": "stream",
     "text": [
      "Epoch 1/20\n",
      "16/16 [==============================] - 0s 23ms/step - loss: 3.0801 - accuracy: 0.2181 - val_loss: 2.5746 - val_accuracy: 0.2340\n",
      "Epoch 2/20\n",
      "16/16 [==============================] - 0s 16ms/step - loss: 2.3696 - accuracy: 0.2367 - val_loss: 2.1854 - val_accuracy: 0.2620\n",
      "Epoch 3/20\n",
      "16/16 [==============================] - 0s 16ms/step - loss: 2.0141 - accuracy: 0.4102 - val_loss: 1.9305 - val_accuracy: 0.5510\n",
      "Epoch 4/20\n",
      "16/16 [==============================] - 0s 16ms/step - loss: 1.7685 - accuracy: 0.5710 - val_loss: 1.7651 - val_accuracy: 0.5750\n",
      "Epoch 5/20\n",
      "16/16 [==============================] - 0s 16ms/step - loss: 1.6007 - accuracy: 0.5853 - val_loss: 1.6598 - val_accuracy: 0.5810\n",
      "Epoch 6/20\n",
      "16/16 [==============================] - 0s 17ms/step - loss: 1.4817 - accuracy: 0.5947 - val_loss: 1.5984 - val_accuracy: 0.5840\n",
      "Epoch 7/20\n",
      "16/16 [==============================] - 0s 17ms/step - loss: 1.3908 - accuracy: 0.6015 - val_loss: 1.5668 - val_accuracy: 0.5870\n",
      "Epoch 8/20\n",
      "16/16 [==============================] - 0s 16ms/step - loss: 1.3166 - accuracy: 0.6099 - val_loss: 1.5201 - val_accuracy: 0.5880\n",
      "Epoch 9/20\n",
      "16/16 [==============================] - 0s 17ms/step - loss: 1.2527 - accuracy: 0.6278 - val_loss: 1.5032 - val_accuracy: 0.6030\n",
      "Epoch 10/20\n",
      "16/16 [==============================] - 0s 16ms/step - loss: 1.1897 - accuracy: 0.6488 - val_loss: 1.4922 - val_accuracy: 0.6110\n",
      "Epoch 11/20\n",
      "16/16 [==============================] - 0s 17ms/step - loss: 1.1319 - accuracy: 0.6622 - val_loss: 1.4483 - val_accuracy: 0.6230\n",
      "Epoch 12/20\n",
      "16/16 [==============================] - 0s 17ms/step - loss: 1.0751 - accuracy: 0.6730 - val_loss: 1.4280 - val_accuracy: 0.6200\n",
      "Epoch 13/20\n",
      "16/16 [==============================] - 0s 17ms/step - loss: 1.0203 - accuracy: 0.6824 - val_loss: 1.4292 - val_accuracy: 0.6250\n",
      "Epoch 14/20\n",
      "16/16 [==============================] - 0s 16ms/step - loss: 0.9673 - accuracy: 0.6952 - val_loss: 1.4112 - val_accuracy: 0.6330\n",
      "Epoch 15/20\n",
      "16/16 [==============================] - 0s 17ms/step - loss: 0.9162 - accuracy: 0.7300 - val_loss: 1.3840 - val_accuracy: 0.6600\n",
      "Epoch 16/20\n",
      "16/16 [==============================] - 0s 17ms/step - loss: 0.8642 - accuracy: 0.7709 - val_loss: 1.3797 - val_accuracy: 0.6740\n",
      "Epoch 17/20\n",
      "16/16 [==============================] - 0s 17ms/step - loss: 0.8215 - accuracy: 0.7863 - val_loss: 1.4103 - val_accuracy: 0.6740\n",
      "Epoch 18/20\n",
      "16/16 [==============================] - 0s 17ms/step - loss: 0.7798 - accuracy: 0.7969 - val_loss: 1.3693 - val_accuracy: 0.6950\n",
      "Epoch 19/20\n",
      "16/16 [==============================] - 0s 17ms/step - loss: 0.7444 - accuracy: 0.8073 - val_loss: 1.3765 - val_accuracy: 0.6990\n",
      "Epoch 20/20\n",
      "16/16 [==============================] - 0s 15ms/step - loss: 0.7135 - accuracy: 0.8133 - val_loss: 1.3996 - val_accuracy: 0.6930\n"
     ]
    },
    {
     "data": {
      "text/plain": [
       "<tensorflow.python.keras.callbacks.History at 0x1931757a9a0>"
      ]
     },
     "execution_count": 77,
     "metadata": {},
     "output_type": "execute_result"
    }
   ],
   "source": [
    "model.compile(optimizer='rmsprop',loss='categorical_crossentropy',metrics=['accuracy'])\n",
    "model.fit(partial_x_train,partial_y_train, epochs=20, batch_size=512, validation_data=(x_val,y_val))"
   ]
  },
  {
   "cell_type": "markdown",
   "id": "expensive-david",
   "metadata": {},
   "source": [
    "There's a drop of >13% Training Accuracy and ~10% Validation Accuracy because we are trying to compress a lot of information into an intermediate space that is too low-dimensional (4 dimensions)."
   ]
  }
 ],
 "metadata": {
  "kernelspec": {
   "display_name": "Python 3",
   "language": "python",
   "name": "python3"
  },
  "language_info": {
   "codemirror_mode": {
    "name": "ipython",
    "version": 3
   },
   "file_extension": ".py",
   "mimetype": "text/x-python",
   "name": "python",
   "nbconvert_exporter": "python",
   "pygments_lexer": "ipython3",
   "version": "3.8.8"
  }
 },
 "nbformat": 4,
 "nbformat_minor": 5
}
